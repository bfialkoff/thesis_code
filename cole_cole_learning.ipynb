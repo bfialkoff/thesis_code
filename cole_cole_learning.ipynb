{
 "cells": [
  {
   "cell_type": "code",
   "execution_count": 2,
   "metadata": {},
   "outputs": [],
   "source": [
    "from pathlib import Path\n",
    "\n",
    "import pandas as pd\n",
    "from sklearn.linear_model import LinearRegression\n",
    "\n",
    "from core.bll.preprocessing import Preprocessor\n",
    "from core.bll.ordered_data_reader import OrderedDataReader\n",
    "from core.bll.features import Features"
   ]
  },
  {
   "cell_type": "code",
   "execution_count": 9,
   "metadata": {},
   "outputs": [],
   "source": [
    "feature_extractor = Features()\n",
    "feature_extractor.feature_length = 20\n",
    "fs = 1980//2\n",
    "train_df = pd.read_csv()\n",
    "a = feature_extractor.get_cole_cole_params(emg, fs)"
   ]
  },
  {
   "cell_type": "code",
   "execution_count": 14,
   "metadata": {},
   "outputs": [],
   "source": [
    "train_annotations_path = Path().joinpath('files', 'train_annotations.csv').resolve()\n",
    "train_df = pd.read_csv(train_annotations_path)\n",
    "g = train_df.groupby(['subject', 'signal_num'])"
   ]
  },
  {
   "cell_type": "code",
   "execution_count": 15,
   "metadata": {},
   "outputs": [
    {
     "name": "stdout",
     "output_type": "stream",
     "text": [
      "<pandas.core.groupby.generic.DataFrameGroupBy object at 0x0000021E9B4C2588>\n",
      "<pandas.core.groupby.generic.DataFrameGroupBy object at 0x0000021E9B4C2588>\n",
      "<pandas.core.groupby.generic.DataFrameGroupBy object at 0x0000021E9B4C2588>\n",
      "<pandas.core.groupby.generic.DataFrameGroupBy object at 0x0000021E9B4C2588>\n",
      "<pandas.core.groupby.generic.DataFrameGroupBy object at 0x0000021E9B4C2588>\n",
      "<pandas.core.groupby.generic.DataFrameGroupBy object at 0x0000021E9B4C2588>\n",
      "<pandas.core.groupby.generic.DataFrameGroupBy object at 0x0000021E9B4C2588>\n",
      "<pandas.core.groupby.generic.DataFrameGroupBy object at 0x0000021E9B4C2588>\n",
      "<pandas.core.groupby.generic.DataFrameGroupBy object at 0x0000021E9B4C2588>\n",
      "<pandas.core.groupby.generic.DataFrameGroupBy object at 0x0000021E9B4C2588>\n",
      "<pandas.core.groupby.generic.DataFrameGroupBy object at 0x0000021E9B4C2588>\n",
      "<pandas.core.groupby.generic.DataFrameGroupBy object at 0x0000021E9B4C2588>\n",
      "<pandas.core.groupby.generic.DataFrameGroupBy object at 0x0000021E9B4C2588>\n",
      "<pandas.core.groupby.generic.DataFrameGroupBy object at 0x0000021E9B4C2588>\n",
      "<pandas.core.groupby.generic.DataFrameGroupBy object at 0x0000021E9B4C2588>\n",
      "<pandas.core.groupby.generic.DataFrameGroupBy object at 0x0000021E9B4C2588>\n",
      "<pandas.core.groupby.generic.DataFrameGroupBy object at 0x0000021E9B4C2588>\n",
      "<pandas.core.groupby.generic.DataFrameGroupBy object at 0x0000021E9B4C2588>\n",
      "<pandas.core.groupby.generic.DataFrameGroupBy object at 0x0000021E9B4C2588>\n",
      "<pandas.core.groupby.generic.DataFrameGroupBy object at 0x0000021E9B4C2588>\n",
      "<pandas.core.groupby.generic.DataFrameGroupBy object at 0x0000021E9B4C2588>\n",
      "<pandas.core.groupby.generic.DataFrameGroupBy object at 0x0000021E9B4C2588>\n",
      "<pandas.core.groupby.generic.DataFrameGroupBy object at 0x0000021E9B4C2588>\n",
      "<pandas.core.groupby.generic.DataFrameGroupBy object at 0x0000021E9B4C2588>\n",
      "<pandas.core.groupby.generic.DataFrameGroupBy object at 0x0000021E9B4C2588>\n",
      "<pandas.core.groupby.generic.DataFrameGroupBy object at 0x0000021E9B4C2588>\n",
      "<pandas.core.groupby.generic.DataFrameGroupBy object at 0x0000021E9B4C2588>\n",
      "<pandas.core.groupby.generic.DataFrameGroupBy object at 0x0000021E9B4C2588>\n",
      "<pandas.core.groupby.generic.DataFrameGroupBy object at 0x0000021E9B4C2588>\n",
      "<pandas.core.groupby.generic.DataFrameGroupBy object at 0x0000021E9B4C2588>\n",
      "<pandas.core.groupby.generic.DataFrameGroupBy object at 0x0000021E9B4C2588>\n",
      "<pandas.core.groupby.generic.DataFrameGroupBy object at 0x0000021E9B4C2588>\n",
      "<pandas.core.groupby.generic.DataFrameGroupBy object at 0x0000021E9B4C2588>\n",
      "<pandas.core.groupby.generic.DataFrameGroupBy object at 0x0000021E9B4C2588>\n",
      "<pandas.core.groupby.generic.DataFrameGroupBy object at 0x0000021E9B4C2588>\n",
      "<pandas.core.groupby.generic.DataFrameGroupBy object at 0x0000021E9B4C2588>\n",
      "<pandas.core.groupby.generic.DataFrameGroupBy object at 0x0000021E9B4C2588>\n",
      "<pandas.core.groupby.generic.DataFrameGroupBy object at 0x0000021E9B4C2588>\n",
      "<pandas.core.groupby.generic.DataFrameGroupBy object at 0x0000021E9B4C2588>\n",
      "<pandas.core.groupby.generic.DataFrameGroupBy object at 0x0000021E9B4C2588>\n",
      "<pandas.core.groupby.generic.DataFrameGroupBy object at 0x0000021E9B4C2588>\n",
      "<pandas.core.groupby.generic.DataFrameGroupBy object at 0x0000021E9B4C2588>\n",
      "<pandas.core.groupby.generic.DataFrameGroupBy object at 0x0000021E9B4C2588>\n",
      "<pandas.core.groupby.generic.DataFrameGroupBy object at 0x0000021E9B4C2588>\n",
      "<pandas.core.groupby.generic.DataFrameGroupBy object at 0x0000021E9B4C2588>\n",
      "<pandas.core.groupby.generic.DataFrameGroupBy object at 0x0000021E9B4C2588>\n",
      "<pandas.core.groupby.generic.DataFrameGroupBy object at 0x0000021E9B4C2588>\n",
      "<pandas.core.groupby.generic.DataFrameGroupBy object at 0x0000021E9B4C2588>\n",
      "<pandas.core.groupby.generic.DataFrameGroupBy object at 0x0000021E9B4C2588>\n",
      "<pandas.core.groupby.generic.DataFrameGroupBy object at 0x0000021E9B4C2588>\n",
      "<pandas.core.groupby.generic.DataFrameGroupBy object at 0x0000021E9B4C2588>\n",
      "<pandas.core.groupby.generic.DataFrameGroupBy object at 0x0000021E9B4C2588>\n",
      "<pandas.core.groupby.generic.DataFrameGroupBy object at 0x0000021E9B4C2588>\n",
      "<pandas.core.groupby.generic.DataFrameGroupBy object at 0x0000021E9B4C2588>\n",
      "<pandas.core.groupby.generic.DataFrameGroupBy object at 0x0000021E9B4C2588>\n",
      "<pandas.core.groupby.generic.DataFrameGroupBy object at 0x0000021E9B4C2588>\n",
      "<pandas.core.groupby.generic.DataFrameGroupBy object at 0x0000021E9B4C2588>\n",
      "<pandas.core.groupby.generic.DataFrameGroupBy object at 0x0000021E9B4C2588>\n",
      "<pandas.core.groupby.generic.DataFrameGroupBy object at 0x0000021E9B4C2588>\n",
      "<pandas.core.groupby.generic.DataFrameGroupBy object at 0x0000021E9B4C2588>\n",
      "<pandas.core.groupby.generic.DataFrameGroupBy object at 0x0000021E9B4C2588>\n",
      "<pandas.core.groupby.generic.DataFrameGroupBy object at 0x0000021E9B4C2588>\n",
      "<pandas.core.groupby.generic.DataFrameGroupBy object at 0x0000021E9B4C2588>\n",
      "<pandas.core.groupby.generic.DataFrameGroupBy object at 0x0000021E9B4C2588>\n",
      "<pandas.core.groupby.generic.DataFrameGroupBy object at 0x0000021E9B4C2588>\n",
      "<pandas.core.groupby.generic.DataFrameGroupBy object at 0x0000021E9B4C2588>\n",
      "<pandas.core.groupby.generic.DataFrameGroupBy object at 0x0000021E9B4C2588>\n",
      "<pandas.core.groupby.generic.DataFrameGroupBy object at 0x0000021E9B4C2588>\n",
      "<pandas.core.groupby.generic.DataFrameGroupBy object at 0x0000021E9B4C2588>\n",
      "<pandas.core.groupby.generic.DataFrameGroupBy object at 0x0000021E9B4C2588>\n",
      "<pandas.core.groupby.generic.DataFrameGroupBy object at 0x0000021E9B4C2588>\n",
      "<pandas.core.groupby.generic.DataFrameGroupBy object at 0x0000021E9B4C2588>\n",
      "<pandas.core.groupby.generic.DataFrameGroupBy object at 0x0000021E9B4C2588>\n",
      "<pandas.core.groupby.generic.DataFrameGroupBy object at 0x0000021E9B4C2588>\n",
      "<pandas.core.groupby.generic.DataFrameGroupBy object at 0x0000021E9B4C2588>\n",
      "<pandas.core.groupby.generic.DataFrameGroupBy object at 0x0000021E9B4C2588>\n",
      "<pandas.core.groupby.generic.DataFrameGroupBy object at 0x0000021E9B4C2588>\n",
      "<pandas.core.groupby.generic.DataFrameGroupBy object at 0x0000021E9B4C2588>\n",
      "<pandas.core.groupby.generic.DataFrameGroupBy object at 0x0000021E9B4C2588>\n",
      "<pandas.core.groupby.generic.DataFrameGroupBy object at 0x0000021E9B4C2588>\n"
     ]
    }
   ],
   "source": [
    "for index, df in g:\n",
    "    print(g)"
   ]
  },
  {
   "cell_type": "code",
   "execution_count": null,
   "metadata": {},
   "outputs": [],
   "source": []
  }
 ],
 "metadata": {
  "kernelspec": {
   "display_name": "Python 3",
   "language": "python",
   "name": "python3"
  },
  "language_info": {
   "codemirror_mode": {
    "name": "ipython",
    "version": 3
   },
   "file_extension": ".py",
   "mimetype": "text/x-python",
   "name": "python",
   "nbconvert_exporter": "python",
   "pygments_lexer": "ipython3",
   "version": "3.7.4"
  }
 },
 "nbformat": 4,
 "nbformat_minor": 2
}
